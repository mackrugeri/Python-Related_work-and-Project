{
 "cells": [
  {
   "cell_type": "code",
   "execution_count": 8,
   "metadata": {},
   "outputs": [],
   "source": [
    "### creation of frame \n",
    "\n",
    "from tkinter import * \n",
    "from PIL  import ImageTk,Image\n",
    "\n",
    "root = Tk()\n",
    "root.title(\"Hello World\")\n",
    "\n",
    "# from here the creation of frame is started \n",
    "frame = LabelFrame(root,text=\"This is my frame....\",padx=5,pady=5)\n",
    "frame.pack(padx=10,pady=10)\n",
    "\n",
    "\n",
    "\n",
    "b = Button(frame, text =\"Click me\")\n",
    "b.pack()\n",
    "root.mainloop()"
   ]
  },
  {
   "cell_type": "code",
   "execution_count": null,
   "metadata": {},
   "outputs": [],
   "source": []
  }
 ],
 "metadata": {
  "kernelspec": {
   "display_name": "Python 3",
   "language": "python",
   "name": "python3"
  },
  "language_info": {
   "codemirror_mode": {
    "name": "ipython",
    "version": 3
   },
   "file_extension": ".py",
   "mimetype": "text/x-python",
   "name": "python",
   "nbconvert_exporter": "python",
   "pygments_lexer": "ipython3",
   "version": "3.6.5"
  }
 },
 "nbformat": 4,
 "nbformat_minor": 2
}
