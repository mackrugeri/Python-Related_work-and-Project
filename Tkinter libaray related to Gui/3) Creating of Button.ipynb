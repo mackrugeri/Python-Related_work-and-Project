{
 "cells": [
  {
   "cell_type": "code",
   "execution_count": 31,
   "metadata": {},
   "outputs": [],
   "source": [
    "from tkinter import *\n",
    "\n",
    "root = Tk()\n",
    "mylabel1 = Label(root, text=\"Hello World  \")\n",
    "\n",
    "\n",
    "def myClick():\n",
    "    label = Label(root,text=\"Hello world is called the button\")\n",
    "    label.pack()\n",
    "\n",
    "# button fuctionality  1) state=DISABLED it is used for disabling the button \n",
    "# 2) for change the size of the button padx is use for change the size viva x-axis and pady is use for change size viva y-axis\n",
    "# 3) for take the action on the click command is used for it \n",
    "# 4) bg is use for back color\n",
    "# 5) fg is use front color\n",
    "\n",
    "# myButton = Button(root,text=\"Button\",state=DISABLED)    #USED for disable the button\n",
    "\n",
    "myButton = Button(root,text = \"Button\",padx=40,pady =20,command=myClick,bg=\"black\",fg=\"white\" )\n",
    "\n",
    "#mylabel1.grid(row=0,column=0)   #for the grid you have you use grid everywhere you can't use pack() and grid() in parallel\n",
    "#myButton.grid(row=0,column=1)\n",
    "\n",
    "mylabel1.pack()\n",
    "myButton.pack()\n",
    "\n",
    "root.mainloop()"
   ]
  },
  {
   "cell_type": "code",
   "execution_count": null,
   "metadata": {},
   "outputs": [],
   "source": []
  }
 ],
 "metadata": {
  "kernelspec": {
   "display_name": "Python 3",
   "language": "python",
   "name": "python3"
  },
  "language_info": {
   "codemirror_mode": {
    "name": "ipython",
    "version": 3
   },
   "file_extension": ".py",
   "mimetype": "text/x-python",
   "name": "python",
   "nbconvert_exporter": "python",
   "pygments_lexer": "ipython3",
   "version": "3.6.5"
  }
 },
 "nbformat": 4,
 "nbformat_minor": 2
}
