{
 "cells": [
  {
   "cell_type": "code",
   "execution_count": 14,
   "metadata": {},
   "outputs": [],
   "source": [
    "from tkinter import *\n",
    "from PIL import ImageTk,Image\n",
    "\n",
    "root = Tk()\n",
    "root.title(\"Hello World\")\n",
    "\n",
    "def newWindow():\n",
    "    global img\n",
    "    top = Toplevel()\n",
    "    img = ImageTk.PhotoImage(Image.open(\"img/pic1.jpg\"))\n",
    "    label = Label(top,image=img).pack()\n",
    "    Button(top,text=\"Destory the Window\", command=top.destroy).pack()\n",
    "\n",
    "\n",
    "btn = Button(root,text=\"open Second Window\",command=newWindow).pack()\n",
    "\n",
    "\n",
    "\n",
    "root.mainloop()"
   ]
  },
  {
   "cell_type": "code",
   "execution_count": null,
   "metadata": {},
   "outputs": [],
   "source": []
  }
 ],
 "metadata": {
  "kernelspec": {
   "display_name": "Python 3",
   "language": "python",
   "name": "python3"
  },
  "language_info": {
   "codemirror_mode": {
    "name": "ipython",
    "version": 3
   },
   "file_extension": ".py",
   "mimetype": "text/x-python",
   "name": "python",
   "nbconvert_exporter": "python",
   "pygments_lexer": "ipython3",
   "version": "3.6.5"
  }
 },
 "nbformat": 4,
 "nbformat_minor": 2
}
