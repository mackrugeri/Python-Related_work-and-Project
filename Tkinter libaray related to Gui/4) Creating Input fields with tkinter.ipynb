{
 "cells": [
  {
   "cell_type": "code",
   "execution_count": 24,
   "metadata": {},
   "outputs": [],
   "source": [
    "from tkinter import *\n",
    "\n",
    "# for the creation of the input field with tkinter there is widget which is name as entry() here you have to enter your data\n",
    "root = Tk()\n",
    "\n",
    "\n",
    "#functionality of the Entry widgets are: 1) Width is use for increasing the width of the entry 2)bg is background color \n",
    "#3)fg is fornt Color 4) bordewidth is use for width of the border of the text box 5) object.get() is use to get the data \n",
    "\n",
    "\n",
    "Enter_data = Entry(root,width= 50,borderwidth = 5)\n",
    "Enter_data.pack()\n",
    "Enter_data.insert(0,\"Hello World\")\n",
    "\n",
    "\n",
    "def Onclick():\n",
    "    textLabel = Label(root,text=Enter_data.get())\n",
    "    textLabel.pack()\n",
    "\n",
    "btnForLabel =Button(root,text=\"Enter Data\", command=Onclick)\n",
    "btnForLabel.pack()\n",
    "\n",
    "root.mainloop()"
   ]
  },
  {
   "cell_type": "code",
   "execution_count": null,
   "metadata": {},
   "outputs": [],
   "source": []
  }
 ],
 "metadata": {
  "kernelspec": {
   "display_name": "Python 3",
   "language": "python",
   "name": "python3"
  },
  "language_info": {
   "codemirror_mode": {
    "name": "ipython",
    "version": 3
   },
   "file_extension": ".py",
   "mimetype": "text/x-python",
   "name": "python",
   "nbconvert_exporter": "python",
   "pygments_lexer": "ipython3",
   "version": "3.6.5"
  }
 },
 "nbformat": 4,
 "nbformat_minor": 2
}
