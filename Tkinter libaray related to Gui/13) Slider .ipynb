{
 "cells": [
  {
   "cell_type": "code",
   "execution_count": 2,
   "metadata": {},
   "outputs": [
    {
     "name": "stdout",
     "output_type": "stream",
     "text": [
      "4\n"
     ]
    }
   ],
   "source": [
    "from tkinter import *\n",
    "from PIL import ImageTk,Image \n",
    "\n",
    "root= Tk()\n",
    "root.geometry(\"400x400\")\n",
    "vertical =Scale(root,from_=0,to=5)\n",
    "vertical.pack()\n",
    "def clickme(var):\n",
    "    print(horizontal.get())\n",
    "horizontal =Scale(root,from_=0,to=5,orient=HORIZONTAL,command=clickme)\n",
    "horizontal.pack()\n",
    "\n",
    "Button(root,text=\"Click me\",command=clickme).pack()\n",
    "root.mainloop()"
   ]
  },
  {
   "cell_type": "code",
   "execution_count": null,
   "metadata": {},
   "outputs": [],
   "source": []
  }
 ],
 "metadata": {
  "kernelspec": {
   "display_name": "Python 3",
   "language": "python",
   "name": "python3"
  },
  "language_info": {
   "codemirror_mode": {
    "name": "ipython",
    "version": 3
   },
   "file_extension": ".py",
   "mimetype": "text/x-python",
   "name": "python",
   "nbconvert_exporter": "python",
   "pygments_lexer": "ipython3",
   "version": "3.6.5"
  }
 },
 "nbformat": 4,
 "nbformat_minor": 2
}
