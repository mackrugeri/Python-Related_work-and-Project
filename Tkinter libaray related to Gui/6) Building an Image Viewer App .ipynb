{
 "cells": [
  {
   "cell_type": "code",
   "execution_count": 32,
   "metadata": {},
   "outputs": [],
   "source": [
    "from tkinter import *\n",
    "from PIL import ImageTk,Image\n",
    "\n",
    "root = Tk()\n",
    "\n",
    "img1 = ImageTk.PhotoImage(Image.open(\"img/pic1.jpg\"))\n",
    "img2= ImageTk.PhotoImage(Image.open(\"img/pic2.jpg\"))\n",
    "img3 = ImageTk.PhotoImage(Image.open(\"img/pic3.jpg\"))\n",
    "img4 = ImageTk.PhotoImage(Image.open(\"img/pic4.jpg\"))\n",
    "img5 = ImageTk.PhotoImage(Image.open(\"img/pic5.jpg\"))\n",
    "\n",
    "image_list = [img1,img2,img3,img4,img5]\n",
    "\n",
    "label = Label(image = img1)\n",
    "label.grid(row=0,column=0,columnspan=3)\n",
    "\n",
    "def forward(image_number):\n",
    "    global label\n",
    "    global button_forword\n",
    "    global button_back\n",
    "    label.grid_forget()    # it is use to get rid of something\n",
    "    print(\"Hello world\")\n",
    "    label=Label(image = image_list[image_number-1])\n",
    "    button_forword = Button(root,text=\"forward Image\",command=lambda:forward(image_number+1))\n",
    "    button_back = Button(root,text=\"Back Image\",command=lambda:back(image_number-1))\n",
    "    \n",
    "    if image_number == 5:\n",
    "        button_forword = Button(root,text=\"forward Image\",state=DISABLED)\n",
    "\n",
    "    label.grid(row=0,column=0,columnspan=3)\n",
    "    button_forword.grid(row=1,column=2)\n",
    "    button_back.grid(row=1,column=0)\n",
    "    \n",
    "def back(image_number):\n",
    "    global label\n",
    "    global button_forword\n",
    "    global button_back\n",
    "    label.grid_forget()    # it is use to get rid of something\n",
    "    print(\"Hello world\")\n",
    "    label=Label(image = image_list[image_number-1])\n",
    "    button_forword = Button(root,text=\"forward Image\",command=lambda:forward(image_number+1))\n",
    "    button_back = Button(root,text=\"Back Image\",command=lambda:back(image_number-1))\n",
    "    \n",
    "    if image_number == 1:\n",
    "        button_back = Button(root,text=\"Back Image\",state=DISABLED)\n",
    "    \n",
    "    label.grid(row=0,column=0,columnspan=3)\n",
    "    button_forword.grid(row=1,column=2)\n",
    "    button_back.grid(row=1,column=0)\n",
    "    \n",
    "    \n",
    "\n",
    "button_back = Button(root,text=\"Back Image\",command=back,state=DISABLED)\n",
    "button_exit = Button(root,text=\"image app exit\")\n",
    "button_forword = Button(root,text=\"forward Image\",command=lambda: forward(2))\n",
    "\n",
    "button_back.grid(row=1,column=0)\n",
    "button_exit.grid(row=1,column=1)\n",
    "button_forword.grid(row=1,column=2)\n",
    "root.mainloop()\n"
   ]
  },
  {
   "cell_type": "code",
   "execution_count": null,
   "metadata": {},
   "outputs": [],
   "source": []
  },
  {
   "cell_type": "code",
   "execution_count": null,
   "metadata": {},
   "outputs": [],
   "source": []
  }
 ],
 "metadata": {
  "kernelspec": {
   "display_name": "Python 3",
   "language": "python",
   "name": "python3"
  },
  "language_info": {
   "codemirror_mode": {
    "name": "ipython",
    "version": 3
   },
   "file_extension": ".py",
   "mimetype": "text/x-python",
   "name": "python",
   "nbconvert_exporter": "python",
   "pygments_lexer": "ipython3",
   "version": "3.6.5"
  }
 },
 "nbformat": 4,
 "nbformat_minor": 2
}
