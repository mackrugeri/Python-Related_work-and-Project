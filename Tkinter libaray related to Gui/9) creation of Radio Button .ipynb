{
 "cells": [
  {
   "cell_type": "code",
   "execution_count": 15,
   "metadata": {},
   "outputs": [],
   "source": [
    "from tkinter import * \n",
    "from PIL import ImageTk,Image\n",
    "\n",
    "root = Tk()\n",
    "# Creation of Radio Button \n",
    "r =IntVar()\n",
    "def clicked(value):\n",
    "    mylabel =Label(root,text=r.get())\n",
    "    mylabel.pack()\n",
    "\n",
    "\n",
    "Radiobutton(root,text=\"option 1\",variable=r,value=1,command=lambda:clicked(r.get())).pack()\n",
    "Radiobutton(root,text=\"option 2\",variable=r,value=2,command=lambda:clicked(r.get())).pack()\n",
    "\n",
    "mylabel =Label(root,text=r.get())\n",
    "mylabel.pack()\n",
    "\n",
    "myButton = Button\n",
    "\n",
    "root.mainloop()"
   ]
  },
  {
   "cell_type": "code",
   "execution_count": null,
   "metadata": {},
   "outputs": [],
   "source": []
  }
 ],
 "metadata": {
  "kernelspec": {
   "display_name": "Python 3",
   "language": "python",
   "name": "python3"
  },
  "language_info": {
   "codemirror_mode": {
    "name": "ipython",
    "version": 3
   },
   "file_extension": ".py",
   "mimetype": "text/x-python",
   "name": "python",
   "nbconvert_exporter": "python",
   "pygments_lexer": "ipython3",
   "version": "3.6.5"
  }
 },
 "nbformat": 4,
 "nbformat_minor": 2
}
