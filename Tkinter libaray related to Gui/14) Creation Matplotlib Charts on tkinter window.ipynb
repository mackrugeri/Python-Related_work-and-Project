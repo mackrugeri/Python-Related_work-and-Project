{
 "cells": [
  {
   "cell_type": "code",
   "execution_count": 13,
   "metadata": {},
   "outputs": [
    {
     "name": "stderr",
     "output_type": "stream",
     "text": [
      "Exception in Tkinter callback\n",
      "Traceback (most recent call last):\n",
      "  File \"C:\\Users\\Mackrugeri\\Anaconda3\\lib\\tkinter\\__init__.py\", line 1702, in __call__\n",
      "    return self.func(*args)\n",
      "  File \"<ipython-input-13-8895b2683e75>\", line 13, in graph\n",
      "    line2.get_tk_widget().pack(side=tk.LEFT, fill=tk.BOTH)\n",
      "NameError: name 'line2' is not defined\n"
     ]
    },
    {
     "data": {
      "image/png": "[encoded data removed]",
      "text/plain": [
       "<Figure size 432x288 with 1 Axes>"
      ]
     },
     "metadata": {},
     "output_type": "display_data"
    }
   ],
   "source": [
    "from tkinter import *\n",
    "from PIL import ImageTk,Image\n",
    "import numpy as np\n",
    "import matplotlib.pyplot as plt\n",
    "\n",
    "root =Tk()\n",
    "\n",
    "def graph():\n",
    "    house_prices = np.random.normal(200000,2500,50000)\n",
    "    figure1 = plt.hist(house_prices,50)\n",
    "#     plt.show()\n",
    "    line2 = FigureCanvasTkAgg(figure1, root)\n",
    "    line2.get_tk_widget().pack(side=tk.LEFT, fill=tk.BOTH)\n",
    "\n",
    "my_button = Button(root,text=\"Graph it\",command=graph)\n",
    "my_button.pack()\n",
    "\n",
    "\n",
    "root.mainloop()"
   ]
  },
  {
   "cell_type": "code",
   "execution_count": 48,
   "metadata": {},
   "outputs": [],
   "source": [
    "import tkinter as tk\n",
    "from pandas import DataFrame\n",
    "import matplotlib.pyplot as plt\n",
    "from matplotlib.backends.backend_tkagg import FigureCanvasTkAgg\n",
    "countries_name = ['US','CA','GER','UK','FR']\n",
    "Gdp = [45000,42000,52000,49000,47000,]\n",
    "data1 = {'Country': countries_name ,\n",
    "         'GDP_Per_Capita': Gdp\n",
    "        }\n",
    "df1 = DataFrame(data1,columns=['Country','GDP_Per_Capita'])\n",
    "\n",
    "root= tk.Tk() \n",
    "  \n",
    "figure1 = plt.Figure(figsize=(6,5), dpi=100)\n",
    "ax1 = figure1.add_subplot(111)\n",
    "bar1 = FigureCanvasTkAgg(figure1, root)\n",
    "bar1.get_tk_widget().pack(side=tk.LEFT, fill=tk.BOTH)\n",
    "df1 = df1[['Country','GDP_Per_Capita']].groupby('Country').sum()\n",
    "df1.plot(kind='line', legend=True, ax=ax1,color='r',marker='o', fontsize=10)\n",
    "ax1.set_title('Country Vs. GDP Per Capita')\n",
    "\n",
    "\n",
    "\n",
    "root.mainloop()"
   ]
  },
  {
   "cell_type": "code",
   "execution_count": null,
   "metadata": {},
   "outputs": [],
   "source": []
  },
  {
   "cell_type": "code",
   "execution_count": null,
   "metadata": {},
   "outputs": [],
   "source": []
  }
 ],
 "metadata": {
  "kernelspec": {
   "display_name": "Python 3",
   "language": "python",
   "name": "python3"
  },
  "language_info": {
   "codemirror_mode": {
    "name": "ipython",
    "version": 3
   },
   "file_extension": ".py",
   "mimetype": "text/x-python",
   "name": "python",
   "nbconvert_exporter": "python",
   "pygments_lexer": "ipython3",
   "version": "3.6.5"
  }
 },
 "nbformat": 4,
 "nbformat_minor": 2
}
