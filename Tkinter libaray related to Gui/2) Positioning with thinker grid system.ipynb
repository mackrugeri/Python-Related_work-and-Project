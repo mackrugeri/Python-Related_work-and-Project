{
 "cells": [
  {
   "cell_type": "code",
   "execution_count": 8,
   "metadata": {},
   "outputs": [],
   "source": [
    "# here we are positioning the widgets\n",
    "from tkinter import *\n",
    "\n",
    "root = Tk()\n",
    "\n",
    "#label stuff\n",
    "# here we are creating the thing \n",
    "helloworld_label = Label(root, text = \"Hello world\")\n",
    "Name_label = Label(root, text = \"Muhammad Ahsan Ali\")\n",
    "\n",
    "#pack can fixed at the position where as it use put widget at you own postion\n",
    "#here we are showing the thing\n",
    "\n",
    "helloworld_label.grid(row=0,column =0)  \n",
    "Name_label.grid(row=1,column=1)\n",
    "\n",
    "# Main loop \n",
    "\n",
    "root.mainloop()\n"
   ]
  },
  {
   "cell_type": "code",
   "execution_count": null,
   "metadata": {},
   "outputs": [],
   "source": []
  }
 ],
 "metadata": {
  "kernelspec": {
   "display_name": "Python 3",
   "language": "python",
   "name": "python3"
  },
  "language_info": {
   "codemirror_mode": {
    "name": "ipython",
    "version": 3
   },
   "file_extension": ".py",
   "mimetype": "text/x-python",
   "name": "python",
   "nbconvert_exporter": "python",
   "pygments_lexer": "ipython3",
   "version": "3.6.5"
  }
 },
 "nbformat": 4,
 "nbformat_minor": 2
}
