{
 "cells": [
  {
   "cell_type": "code",
   "execution_count": 5,
   "metadata": {},
   "outputs": [],
   "source": [
    "# inside the tkinter everything is widgets such as button window etc and for use this we have to create a handler of them \n",
    "from tkinter import *\n",
    "\n",
    "root =Tk()\n",
    "\n",
    "\n",
    "Helloworld_label = Label(root, text = \"Hello world\")   #label widgets \n",
    "Helloworld_label.pack()   # shoving it onto the screen at the fixed position which is centerilzed postion\n",
    "\n",
    "root.mainloop()    #it is baiscally the main event which can run the code again again and make it is usable \n",
    "\n"
   ]
  },
  {
   "cell_type": "code",
   "execution_count": null,
   "metadata": {},
   "outputs": [],
   "source": []
  }
 ],
 "metadata": {
  "kernelspec": {
   "display_name": "Python 3",
   "language": "python",
   "name": "python3"
  },
  "language_info": {
   "codemirror_mode": {
    "name": "ipython",
    "version": 3
   },
   "file_extension": ".py",
   "mimetype": "text/x-python",
   "name": "python",
   "nbconvert_exporter": "python",
   "pygments_lexer": "ipython3",
   "version": "3.6.5"
  }
 },
 "nbformat": 4,
 "nbformat_minor": 2
}
