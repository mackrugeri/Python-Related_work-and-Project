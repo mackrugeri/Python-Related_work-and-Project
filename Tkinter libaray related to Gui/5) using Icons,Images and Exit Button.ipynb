{
 "cells": [
  {
   "cell_type": "code",
   "execution_count": 5,
   "metadata": {},
   "outputs": [],
   "source": [
    "from tkinter import *\n",
    "from PIL import ImageTk,Image\n",
    "root = Tk()\n",
    "root.title(\"Learning the tkinter\")\n",
    "\n",
    "# now icon is going to inserted which has the size of 16*16 32*32 or 64*64 it must be a square \n",
    "# root.iconbitmap('helloween.ico')\n",
    "\n",
    "\n",
    "# This is for the Exiting the program\n",
    "# button_uit = Button(root,text = \"Exit program\",command=root.quit)\n",
    "# button_uit.pack()\n",
    "\n",
    "# now insertion of the images\n",
    "img = ImageTk.PhotoImage(Image.open(\"pic1.jpg\"))\n",
    "label = Label(image=img)\n",
    "label.pack()\n",
    "\n",
    "root.mainloop()"
   ]
  },
  {
   "cell_type": "code",
   "execution_count": null,
   "metadata": {},
   "outputs": [],
   "source": []
  },
  {
   "cell_type": "code",
   "execution_count": null,
   "metadata": {},
   "outputs": [],
   "source": []
  }
 ],
 "metadata": {
  "kernelspec": {
   "display_name": "Python 3",
   "language": "python",
   "name": "python3"
  },
  "language_info": {
   "codemirror_mode": {
    "name": "ipython",
    "version": 3
   },
   "file_extension": ".py",
   "mimetype": "text/x-python",
   "name": "python",
   "nbconvert_exporter": "python",
   "pygments_lexer": "ipython3",
   "version": "3.6.5"
  }
 },
 "nbformat": 4,
 "nbformat_minor": 2
}
